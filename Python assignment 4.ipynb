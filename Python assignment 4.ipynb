{
 "cells": [
  {
   "cell_type": "markdown",
   "id": "fdab7db1",
   "metadata": {},
   "source": [
    "# Write a program(with class concept) to find the area of triangle using the below formula.\n",
    "area = (s*(s-a)*(s-b)*(s-c))**0.5"
   ]
  },
  {
   "cell_type": "code",
   "execution_count": 1,
   "id": "8805bc46",
   "metadata": {},
   "outputs": [],
   "source": [
    "class sides_of_triangle:\n",
    "    def __init__(self, a, b, c):\n",
    "        self.a = a\n",
    "        self.b = b\n",
    "        self.c = c\n",
    "class area_of_triangle(sides_of_triangle):\n",
    "    def area(self):\n",
    "        s = (self.a + self.b + self.c)/2\n",
    "        return (s*(s-self.a)*(s-self.b)*(s-self.c))**0.5\n",
    "    "
   ]
  },
  {
   "cell_type": "code",
   "execution_count": 12,
   "id": "4927e0c9",
   "metadata": {},
   "outputs": [
    {
     "name": "stdout",
     "output_type": "stream",
     "text": [
      "59.81168364124187\n"
     ]
    }
   ],
   "source": [
    "a = area_of_triangle(10,12,15)\n",
    "print(a.area())"
   ]
  },
  {
   "cell_type": "markdown",
   "id": "9a25c787",
   "metadata": {},
   "source": [
    "# Write a function filter_long_words() that takes a list of words and an integer n and returns the list of words that are longer than n.# "
   ]
  },
  {
   "cell_type": "code",
   "execution_count": 60,
   "id": "777cafab",
   "metadata": {},
   "outputs": [
    {
     "name": "stdout",
     "output_type": "stream",
     "text": [
      "['ABCDEF']\n"
     ]
    }
   ],
   "source": [
    "def filter_long_words(inputList,inputInteger):\n",
    " \n",
    "    listOfWords = []\n",
    " \n",
    "    for i in range(len(inputList)):\n",
    "        if len(inputList[i]) > inputInteger:\n",
    "            listOfWords.append(inputList[i])\n",
    " \n",
    "    return listOfWords\n",
    " \n",
    "inputListOfWords = ['ABC','ABCD','ABCDE','ABCDEF']\n",
    "inputWordLength = 5\n",
    " \n",
    "print (str(filter_long_words(inputListOfWords,inputWordLength)))"
   ]
  },
  {
   "cell_type": "markdown",
   "id": "c8fbff4f",
   "metadata": {},
   "source": [
    "# Write a Python program using function concept that maps list of words into a list of integers representing the lengths of the corresponding words. \n",
    "Hint: If a list [ ab,cde,erty] is passed on to the python function output should come as [2,3,4]                                  \n",
    "Here 2,3 and 4 are the lengths of the words in the list.# "
   ]
  },
  {
   "cell_type": "code",
   "execution_count": 67,
   "id": "f9120dfe",
   "metadata": {},
   "outputs": [],
   "source": [
    "def map_to_lengths_lists(words):\n",
    "    for word in words:\n",
    "        return len(word)"
   ]
  },
  {
   "cell_type": "code",
   "execution_count": 73,
   "id": "ea002a32",
   "metadata": {},
   "outputs": [
    {
     "data": {
      "text/plain": [
       "[3, 5, 6]"
      ]
     },
     "execution_count": 73,
     "metadata": {},
     "output_type": "execute_result"
    }
   ],
   "source": [
    "map_to_lengths_for(\"Raj\",\"sdfdd\", 'lohith')"
   ]
  },
  {
   "cell_type": "code",
   "execution_count": null,
   "id": "ff3aa81b",
   "metadata": {},
   "outputs": [],
   "source": []
  },
  {
   "cell_type": "markdown",
   "id": "b9123b96",
   "metadata": {},
   "source": [
    "# Write a Python function which takes a character (i.e. a string of length 1) and returns True if it is a vowel, False otherwise."
   ]
  },
  {
   "cell_type": "code",
   "execution_count": 121,
   "id": "72d6f130",
   "metadata": {},
   "outputs": [],
   "source": [
    "def letter_is(char):\n",
    "\n",
    "    vowels = \"aeiouAEIOU\"\n",
    "\n",
    "    if char in vowels:\n",
    "        return True\n",
    "    else:\n",
    "        return False"
   ]
  },
  {
   "cell_type": "code",
   "execution_count": 123,
   "id": "68e37ccf",
   "metadata": {},
   "outputs": [
    {
     "data": {
      "text/plain": [
       "True"
      ]
     },
     "execution_count": 123,
     "metadata": {},
     "output_type": "execute_result"
    }
   ],
   "source": [
    "letter_is('A')"
   ]
  },
  {
   "cell_type": "code",
   "execution_count": null,
   "id": "b0cd12d8",
   "metadata": {},
   "outputs": [],
   "source": []
  },
  {
   "cell_type": "code",
   "execution_count": null,
   "id": "69d3c14b",
   "metadata": {},
   "outputs": [],
   "source": []
  }
 ],
 "metadata": {
  "kernelspec": {
   "display_name": "Python 3",
   "language": "python",
   "name": "python3"
  },
  "language_info": {
   "codemirror_mode": {
    "name": "ipython",
    "version": 3
   },
   "file_extension": ".py",
   "mimetype": "text/x-python",
   "name": "python",
   "nbconvert_exporter": "python",
   "pygments_lexer": "ipython3",
   "version": "3.8.8"
  }
 },
 "nbformat": 4,
 "nbformat_minor": 5
}
